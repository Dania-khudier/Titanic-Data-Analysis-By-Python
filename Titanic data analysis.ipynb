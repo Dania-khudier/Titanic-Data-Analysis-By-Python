{
 "cells": [
  {
   "cell_type": "code",
   "execution_count": 1,
   "id": "98b67be5",
   "metadata": {},
   "outputs": [
    {
     "name": "stdout",
     "output_type": "stream",
     "text": [
      "2.3.0\n",
      "2.3.0\n"
     ]
    }
   ],
   "source": [
    "import pandas as pd\n",
    "import numpy as np\n",
    "\n",
    "print(np. __version__)\n",
    "print (pd.__version__)"
   ]
  },
  {
   "cell_type": "code",
   "execution_count": 2,
   "id": "737bf24a",
   "metadata": {},
   "outputs": [
    {
     "name": "stdout",
     "output_type": "stream",
     "text": [
      "<bound method DataFrame.to_string of                        PassengerId;Survived;Pclass;Name;Sex;Age;SibSp;Parch;Ticket;Fare;Cabin;Embarked\n",
      "892;0;3;Kelly                    Mr. James;male;34.5;0;0;330911;7.8292;;Q                             \n",
      "893;1;3;Wilkes           Mrs. James (Ellen Needs);female;47;1;0;363272...                             \n",
      "894;0;2;Myles             Mr. Thomas Francis;male;62;0;0;240276;9.6875;;Q                             \n",
      "895;0;3;Wirz                      Mr. Albert;male;27;0;0;315154;8.6625;;S                             \n",
      "896;1;3;Hirvonen         Mrs. Alexander (Helga E Lindqvist);female;22;...                             \n",
      "...                                                                   ...                             \n",
      "1305;0;3;Spector                    Mr. Woolf;male;;0;0;A.5. 3236;8.05;;S                             \n",
      "1306;1;1;Oliva y Ocana   Dona. Fermina;female;39;0;0;PC 17758;108.9;C1...                             \n",
      "1307;0;3;Saether         Mr. Simon Sivertsen;male;38.5;0;0;SOTON/O.Q. ...                             \n",
      "1308;0;3;Ware                      Mr. Frederick;male;;0;0;359309;8.05;;S                             \n",
      "1309;0;3;Peter                Master. Michael J;male;;1;1;2668;22.3583;;C                             \n",
      "\n",
      "[418 rows x 1 columns]>\n",
      "                       PassengerId;Survived;Pclass;Name;Sex;Age;SibSp;Parch;Ticket;Fare;Cabin;Embarked\n",
      "1305;0;3;Spector                    Mr. Woolf;male;;0;0;A.5. 3236;8.05;;S                             \n",
      "1306;1;1;Oliva y Ocana   Dona. Fermina;female;39;0;0;PC 17758;108.9;C1...                             \n",
      "1307;0;3;Saether         Mr. Simon Sivertsen;male;38.5;0;0;SOTON/O.Q. ...                             \n",
      "1308;0;3;Ware                      Mr. Frederick;male;;0;0;359309;8.05;;S                             \n",
      "1309;0;3;Peter                Master. Michael J;male;;1;1;2668;22.3583;;C                             \n"
     ]
    }
   ],
   "source": [
    "import pandas as pd\n",
    "df = pd.read_csv(\"Titanic_Datasett.csv\",delimiter=\";\")\n",
    "df = pd.read_csv (\"Titanic_Datasett.csv\")\n",
    "print(df.to_string)\n",
    "df.head(10)\n",
    "print(df.tail())"
   ]
  },
  {
   "cell_type": "code",
   "execution_count": 3,
   "id": "0e30fa8e",
   "metadata": {},
   "outputs": [
    {
     "name": "stdout",
     "output_type": "stream",
     "text": [
      "<class 'pandas.core.frame.DataFrame'>\n",
      "Index: 418 entries, 892;0;3;Kelly to 1309;0;3;Peter\n",
      "Data columns (total 1 columns):\n",
      " #   Column                                                                           Non-Null Count  Dtype \n",
      "---  ------                                                                           --------------  ----- \n",
      " 0   PassengerId;Survived;Pclass;Name;Sex;Age;SibSp;Parch;Ticket;Fare;Cabin;Embarked  418 non-null    object\n",
      "dtypes: object(1)\n",
      "memory usage: 6.5+ KB\n",
      "None\n",
      "Index(['PassengerId;Survived;Pclass;Name;Sex;Age;SibSp;Parch;Ticket;Fare;Cabin;Embarked'], dtype='object')\n"
     ]
    },
    {
     "data": {
      "text/html": [
       "<div>\n",
       "<style scoped>\n",
       "    .dataframe tbody tr th:only-of-type {\n",
       "        vertical-align: middle;\n",
       "    }\n",
       "\n",
       "    .dataframe tbody tr th {\n",
       "        vertical-align: top;\n",
       "    }\n",
       "\n",
       "    .dataframe thead th {\n",
       "        text-align: right;\n",
       "    }\n",
       "</style>\n",
       "<table border=\"1\" class=\"dataframe\">\n",
       "  <thead>\n",
       "    <tr style=\"text-align: right;\">\n",
       "      <th></th>\n",
       "      <th>PassengerId;Survived;Pclass;Name;Sex;Age;SibSp;Parch;Ticket;Fare;Cabin;Embarked</th>\n",
       "    </tr>\n",
       "  </thead>\n",
       "  <tbody>\n",
       "    <tr>\n",
       "      <th>892;0;3;Kelly</th>\n",
       "      <td>Mr. James;male;34.5;0;0;330911;7.8292;;Q</td>\n",
       "    </tr>\n",
       "    <tr>\n",
       "      <th>893;1;3;Wilkes</th>\n",
       "      <td>Mrs. James (Ellen Needs);female;47;1;0;363272...</td>\n",
       "    </tr>\n",
       "    <tr>\n",
       "      <th>894;0;2;Myles</th>\n",
       "      <td>Mr. Thomas Francis;male;62;0;0;240276;9.6875;;Q</td>\n",
       "    </tr>\n",
       "    <tr>\n",
       "      <th>895;0;3;Wirz</th>\n",
       "      <td>Mr. Albert;male;27;0;0;315154;8.6625;;S</td>\n",
       "    </tr>\n",
       "    <tr>\n",
       "      <th>896;1;3;Hirvonen</th>\n",
       "      <td>Mrs. Alexander (Helga E Lindqvist);female;22;...</td>\n",
       "    </tr>\n",
       "    <tr>\n",
       "      <th>...</th>\n",
       "      <td>...</td>\n",
       "    </tr>\n",
       "    <tr>\n",
       "      <th>1305;0;3;Spector</th>\n",
       "      <td>Mr. Woolf;male;;0;0;A.5. 3236;8.05;;S</td>\n",
       "    </tr>\n",
       "    <tr>\n",
       "      <th>1306;1;1;Oliva y Ocana</th>\n",
       "      <td>Dona. Fermina;female;39;0;0;PC 17758;108.9;C1...</td>\n",
       "    </tr>\n",
       "    <tr>\n",
       "      <th>1307;0;3;Saether</th>\n",
       "      <td>Mr. Simon Sivertsen;male;38.5;0;0;SOTON/O.Q. ...</td>\n",
       "    </tr>\n",
       "    <tr>\n",
       "      <th>1308;0;3;Ware</th>\n",
       "      <td>Mr. Frederick;male;;0;0;359309;8.05;;S</td>\n",
       "    </tr>\n",
       "    <tr>\n",
       "      <th>1309;0;3;Peter</th>\n",
       "      <td>Master. Michael J;male;;1;1;2668;22.3583;;C</td>\n",
       "    </tr>\n",
       "  </tbody>\n",
       "</table>\n",
       "<p>418 rows × 1 columns</p>\n",
       "</div>"
      ],
      "text/plain": [
       "                       PassengerId;Survived;Pclass;Name;Sex;Age;SibSp;Parch;Ticket;Fare;Cabin;Embarked\n",
       "892;0;3;Kelly                    Mr. James;male;34.5;0;0;330911;7.8292;;Q                             \n",
       "893;1;3;Wilkes           Mrs. James (Ellen Needs);female;47;1;0;363272...                             \n",
       "894;0;2;Myles             Mr. Thomas Francis;male;62;0;0;240276;9.6875;;Q                             \n",
       "895;0;3;Wirz                      Mr. Albert;male;27;0;0;315154;8.6625;;S                             \n",
       "896;1;3;Hirvonen         Mrs. Alexander (Helga E Lindqvist);female;22;...                             \n",
       "...                                                                   ...                             \n",
       "1305;0;3;Spector                    Mr. Woolf;male;;0;0;A.5. 3236;8.05;;S                             \n",
       "1306;1;1;Oliva y Ocana   Dona. Fermina;female;39;0;0;PC 17758;108.9;C1...                             \n",
       "1307;0;3;Saether         Mr. Simon Sivertsen;male;38.5;0;0;SOTON/O.Q. ...                             \n",
       "1308;0;3;Ware                      Mr. Frederick;male;;0;0;359309;8.05;;S                             \n",
       "1309;0;3;Peter                Master. Michael J;male;;1;1;2668;22.3583;;C                             \n",
       "\n",
       "[418 rows x 1 columns]"
      ]
     },
     "execution_count": 3,
     "metadata": {},
     "output_type": "execute_result"
    }
   ],
   "source": [
    "print(df.info())\n",
    "df.fillna(\"Null\",inplace=True) # replace empty value with a word Null\n",
    "print(df.columns)\n",
    "df\n"
   ]
  },
  {
   "cell_type": "code",
   "execution_count": 29,
   "id": "2dbd0476",
   "metadata": {},
   "outputs": [
    {
     "name": "stdout",
     "output_type": "stream",
     "text": [
      "     PassengerId  Survived  Pclass  \\\n",
      "12           904         1       1   \n",
      "14           906         1       1   \n",
      "24           916         1       1   \n",
      "26           918         1       1   \n",
      "28           920         0       1   \n",
      "..           ...       ...     ...   \n",
      "404         1296         0       1   \n",
      "405         1297         0       2   \n",
      "407         1299         0       1   \n",
      "411         1303         1       1   \n",
      "414         1306         1       1   \n",
      "\n",
      "                                                  Name     Sex   Age  SibSp  \\\n",
      "12       Snyder, Mrs. John Pillsbury (Nelle Stevenson)  female  23.0      1   \n",
      "14   Chaffee, Mrs. Herbert Fuller (Carrie Constance...  female  47.0      1   \n",
      "24     Ryerson, Mrs. Arthur Larned (Emily Maria Borie)  female  48.0      1   \n",
      "26                        Ostby, Miss. Helene Ragnhild  female  22.0      0   \n",
      "28                             Brady, Mr. John Bertram    male  41.0      0   \n",
      "..                                                 ...     ...   ...    ...   \n",
      "404                       Frauenthal, Mr. Isaac Gerald    male  43.0      1   \n",
      "405       Nourney, Mr. Alfred (Baron von Drachstedt\")\"    male  20.0      0   \n",
      "407                         Widener, Mr. George Dunton    male  50.0      1   \n",
      "411    Minahan, Mrs. William Edward (Lillian E Thorpe)  female  37.0      1   \n",
      "414                       Oliva y Ocana, Dona. Fermina  female  39.0      0   \n",
      "\n",
      "     Parch         Ticket      Fare            Cabin Embarked  \n",
      "12       0          21228   82.2667              B45        S  \n",
      "14       0    W.E.P. 5734   61.1750              E31        S  \n",
      "24       3       PC 17608  262.3750  B57 B59 B63 B66        C  \n",
      "26       1         113509   61.9792              B36        C  \n",
      "28       0         113054   30.5000              A21        S  \n",
      "..     ...            ...       ...              ...      ...  \n",
      "404      0          17765   27.7208              D40        C  \n",
      "405      0  SC/PARIS 2166   13.8625              D38        C  \n",
      "407      1         113503  211.5000              C80        C  \n",
      "411      0          19928   90.0000              C78        Q  \n",
      "414      0       PC 17758  108.9000             C105        C  \n",
      "\n",
      "[87 rows x 12 columns]\n"
     ]
    },
    {
     "data": {
      "text/plain": [
       "(87, 12)"
      ]
     },
     "execution_count": 29,
     "metadata": {},
     "output_type": "execute_result"
    }
   ],
   "source": [
    "df = pd.read_csv(\"Titanic_Datasett.csv\",delimiter=\";\")\n",
    "df.dropna(inplace=True)\n",
    "print(df)\n",
    "df.shape"
   ]
  },
  {
   "cell_type": "code",
   "execution_count": 4,
   "id": "27e30be2",
   "metadata": {},
   "outputs": [
    {
     "name": "stdout",
     "output_type": "stream",
     "text": [
      "['PassengerId', 'Survived', 'Pclass', 'Name', 'Sex', 'Age', 'SibSp', 'Parch', 'Ticket', 'Fare', 'Cabin', 'Embarked']\n",
      "0    3\n",
      "Name: Pclass, dtype: int64\n",
      "0    0\n",
      "Name: Survived, dtype: int64\n",
      "0    S\n",
      "Name: Embarked, dtype: object\n",
      "0    0\n",
      "Name: SibSp, dtype: int64\n"
     ]
    }
   ],
   "source": [
    "df = pd.read_csv(\"Titanic_Datasett.csv\",delimiter=\";\")\n",
    "print(list(df.columns))\n",
    "Mode_Pclass = df[\"Pclass\"].mode()\n",
    "print (Mode_Pclass)\n",
    "Mode_Survived = df[\"Survived\"].mode()\n",
    "print(Mode_Survived)\n",
    "Mode_Embarked = df[\"Embarked\"].mode()\n",
    "print(Mode_Embarked)\n",
    "Mode_SibSp = df[\"SibSp\"].mode()\n",
    "print(Mode_SibSp)"
   ]
  },
  {
   "cell_type": "code",
   "execution_count": 34,
   "id": "46364585",
   "metadata": {},
   "outputs": [
    {
     "name": "stdout",
     "output_type": "stream",
     "text": [
      "35.627188489208635\n",
      "1100.5\n"
     ]
    }
   ],
   "source": [
    "df = pd.read_csv(\"Titanic_Datasett.csv\",delimiter=\";\")\n",
    "Mean_Far = df[\"Fare\"].mean()\n",
    "print(Mean_Far)\n",
    "Median_PassengerId = df[\"PassengerId\"].median()\n",
    "print(Median_PassengerId)"
   ]
  },
  {
   "cell_type": "code",
   "execution_count": 5,
   "id": "d7da9e65",
   "metadata": {},
   "outputs": [],
   "source": [
    "import pandas as pd\n",
    "df = pd.read_csv(\"Titanic_Datasett.csv\",delimiter=\";\")\n",
    "df = pd.read_csv (\"Titanic_Datasett.csv\")\n",
    "import seaborn as sns\n",
    "import matplotlib.pyplot as plt\n"
   ]
  },
  {
   "cell_type": "code",
   "execution_count": 36,
   "id": "c3fb9b11",
   "metadata": {},
   "outputs": [
    {
     "data": {
      "image/png": "[encoded data removed]",
      "text/plain": [
       "<Figure size 640x480 with 1 Axes>"
      ]
     },
     "metadata": {},
     "output_type": "display_data"
    }
   ],
   "source": [
    "df = pd.read_csv(\"Titanic_Datasett.csv\",delimiter=\";\")\n",
    "sns.countplot(x=\"Sex\", hue=\"Survived\", data=df)\n",
    "plt.show()"
   ]
  },
  {
   "cell_type": "code",
   "execution_count": 37,
   "id": "5ea478b7",
   "metadata": {},
   "outputs": [
    {
     "data": {
      "image/png": "[encoded data removed]",
      "text/plain": [
       "<Figure size 640x480 with 1 Axes>"
      ]
     },
     "metadata": {},
     "output_type": "display_data"
    }
   ],
   "source": [
    "df = pd.read_csv(\"Titanic_Datasett.csv\",delimiter=\";\")\n",
    "sns.countplot(x='Pclass', hue='Survived', data=df)\n",
    "plt.title('Survival by Passenger Class')\n",
    "plt.show()"
   ]
  },
  {
   "cell_type": "code",
   "execution_count": null,
   "id": "d093a17b",
   "metadata": {},
   "outputs": [
    {
     "name": "stdout",
     "output_type": "stream",
     "text": [
      "MAX Age = <bound method Series.max of 0      34.5\n",
      "1      47.0\n",
      "2      62.0\n",
      "3      27.0\n",
      "4      22.0\n",
      "       ... \n",
      "413     NaN\n",
      "414    39.0\n",
      "415    38.5\n",
      "416     NaN\n",
      "417     NaN\n",
      "Name: Age, Length: 418, dtype: float64>\n",
      "Min Age = <bound method Series.min of 0      34.5\n",
      "1      47.0\n",
      "2      62.0\n",
      "3      27.0\n",
      "4      22.0\n",
      "       ... \n",
      "413     NaN\n",
      "414    39.0\n",
      "415    38.5\n",
      "416     NaN\n",
      "417     NaN\n",
      "Name: Age, Length: 418, dtype: float64>\n"
     ]
    }
   ],
   "source": [
    "df = pd.read_csv(\"Titanic_Datasett.csv\",delimiter=\";\")\n",
    "max_age = df[\"Age\"].max\n",
    "min_age = df[\"Age\"].min\n",
    "print(\"MAX Age =\",max_age)\n",
    "print(\"Min Age =\",min_age)"
   ]
  }
 ],
 "metadata": {
  "kernelspec": {
   "display_name": "Python 3",
   "language": "python",
   "name": "python3"
  },
  "language_info": {
   "codemirror_mode": {
    "name": "ipython",
    "version": 3
   },
   "file_extension": ".py",
   "mimetype": "text/x-python",
   "name": "python",
   "nbconvert_exporter": "python",
   "pygments_lexer": "ipython3",
   "version": "3.13.5"
  }
 },
 "nbformat": 4,
 "nbformat_minor": 5
}
